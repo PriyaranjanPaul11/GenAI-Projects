{
 "cells": [
  {
   "cell_type": "markdown",
   "id": "43ac890c",
   "metadata": {},
   "source": [
    "### Subtask 1: Create a sample dataset using collections."
   ]
  },
  {
   "cell_type": "markdown",
   "id": "82502086",
   "metadata": {},
   "source": [
    "Thought: I will create a sample dataset using the `collections` module. Since we cannot use `pandas`, I will use a list of dictionaries to represent the dataset."
   ]
  },
  {
   "cell_type": "code",
   "execution_count": 1,
   "id": "11c560bc",
   "metadata": {},
   "outputs": [
    {
     "name": "stdout",
     "output_type": "stream",
     "text": [
      "[{'Name': 'Alice', 'Age': 25, 'City': 'New York'}, {'Name': 'Bob', 'Age': 30, 'City': 'Los Angeles'}, {'Name': 'Charlie', 'Age': 35, 'City': 'Chicago'}, {'Name': 'David', 'Age': 40, 'City': 'Houston'}, {'Name': 'Eve', 'Age': 45, 'City': 'Phoenix'}, {'Name': 'Frank', 'Age': 50, 'City': 'Philadelphia'}]\n"
     ]
    }
   ],
   "source": [
    "\n",
    "# Create a sample dataset using a list of dictionaries\n",
    "sample_data = [\n",
    "    {'Name': 'Alice', 'Age': 25, 'City': 'New York'},\n",
    "    {'Name': 'Bob', 'Age': 30, 'City': 'Los Angeles'},\n",
    "    {'Name': 'Charlie', 'Age': 35, 'City': 'Chicago'},\n",
    "    {'Name': 'David', 'Age': 40, 'City': 'Houston'},\n",
    "    {'Name': 'Eve', 'Age': 45, 'City': 'Phoenix'},\n",
    "    {'Name': 'Frank', 'Age': 50, 'City': 'Philadelphia'}\n",
    "]\n",
    "\n",
    "# Display the sample dataset\n",
    "print(sample_data)\n"
   ]
  },
  {
   "cell_type": "code",
   "execution_count": null,
   "id": "7a379572",
   "metadata": {},
   "outputs": [],
   "source": []
  }
 ],
 "metadata": {
  "kernelspec": {
   "display_name": "tfkernel",
   "language": "python",
   "name": "tfkernel"
  },
  "language_info": {
   "codemirror_mode": {
    "name": "ipython",
    "version": 3
   },
   "file_extension": ".py",
   "mimetype": "text/x-python",
   "name": "python",
   "nbconvert_exporter": "python",
   "pygments_lexer": "ipython3",
   "version": "3.10.6"
  }
 },
 "nbformat": 4,
 "nbformat_minor": 5
}
